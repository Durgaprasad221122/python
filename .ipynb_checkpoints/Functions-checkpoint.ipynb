{
 "cells": [
  {
   "cell_type": "code",
   "execution_count": 4,
   "metadata": {},
   "outputs": [],
   "source": [
    "def prime(n):\n",
    "    count=0\n",
    "    for i in range(1,n+1):\n",
    "        if(n%i==0):\n",
    "            count=count+1\n",
    "    if(count==2):\n",
    "        return True\n",
    "    return False"
   ]
  },
  {
   "cell_type": "code",
   "execution_count": 7,
   "metadata": {},
   "outputs": [
    {
     "data": {
      "text/plain": [
       "False"
      ]
     },
     "execution_count": 7,
     "metadata": {},
     "output_type": "execute_result"
    }
   ],
   "source": [
    "prime(9)"
   ]
  },
  {
   "cell_type": "code",
   "execution_count": 9,
   "metadata": {},
   "outputs": [],
   "source": [
    "###leapyaer in range"
   ]
  },
  {
   "cell_type": "code",
   "execution_count": 13,
   "metadata": {},
   "outputs": [],
   "source": [
    "def leapyear(n):\n",
    "    if(n%400==0 or (n%4==0 and n%100!=0)):\n",
    "        return True\n",
    "    return False"
   ]
  },
  {
   "cell_type": "code",
   "execution_count": 14,
   "metadata": {},
   "outputs": [
    {
     "data": {
      "text/plain": [
       "True"
      ]
     },
     "execution_count": 14,
     "metadata": {},
     "output_type": "execute_result"
    }
   ],
   "source": [
    "leapyear(2020)"
   ]
  },
  {
   "cell_type": "code",
   "execution_count": 41,
   "metadata": {},
   "outputs": [
    {
     "name": "stdout",
     "output_type": "stream",
     "text": [
      "number2000\n",
      "number2021\n",
      "2000\n",
      "2004\n",
      "2008\n",
      "2012\n",
      "2016\n",
      "2020\n",
      "6\n"
     ]
    }
   ],
   "source": [
    "a=int(input(\"number\"))\n",
    "b=int(input(\"number\"))\n",
    "count=0\n",
    "for i in range(a,b):\n",
    "    if leapyear(i):\n",
    "        count=count+1\n",
    "        print(i)\n",
    "print(count)"
   ]
  },
  {
   "cell_type": "code",
   "execution_count": 39,
   "metadata": {},
   "outputs": [],
   "source": [
    "def even(n):\n",
    "        if(n%2==0):\n",
    "            return True\n",
    "        return False"
   ]
  },
  {
   "cell_type": "code",
   "execution_count": 40,
   "metadata": {},
   "outputs": [
    {
     "name": "stdout",
     "output_type": "stream",
     "text": [
      "number12\n",
      "2\n",
      "4\n",
      "6\n"
     ]
    }
   ],
   "source": [
    "n=int(input(\"number\"))\n",
    "for i in range(1,n):\n",
    "    if (n%i==0):\n",
    "        if even(i):\n",
    "            print(i)"
   ]
  },
  {
   "cell_type": "code",
   "execution_count": 2,
   "metadata": {},
   "outputs": [],
   "source": [
    "def armstrong(n):\n",
    "    sn=str(n)\n",
    "    arm=0\n",
    "    n1=len(sn)\n",
    "    for i in sn:\n",
    "        arm=arm+(int(i)**n1)\n",
    "    if(arm==n):\n",
    "        return True\n",
    "    return False"
   ]
  },
  {
   "cell_type": "code",
   "execution_count": 37,
   "metadata": {},
   "outputs": [
    {
     "data": {
      "text/plain": [
       "True"
      ]
     },
     "execution_count": 37,
     "metadata": {},
     "output_type": "execute_result"
    }
   ],
   "source": [
    "armstrong(153)"
   ]
  },
  {
   "cell_type": "code",
   "execution_count": 43,
   "metadata": {},
   "outputs": [
    {
     "name": "stdout",
     "output_type": "stream",
     "text": [
      "lower boundary1\n",
      "upper boundar1000\n",
      "1\n",
      "153\n",
      "370\n",
      "371\n",
      "407\n"
     ]
    }
   ],
   "source": [
    "a=int(input(\"lower boundary\"))\n",
    "b=int(input(\"upper boundar\"))\n",
    "for i in range(a,b):\n",
    "    if armstrong(i):\n",
    "        print(i)"
   ]
  },
  {
   "cell_type": "code",
   "execution_count": 51,
   "metadata": {},
   "outputs": [
    {
     "name": "stdout",
     "output_type": "stream",
     "text": [
      "enter type of pyramid: 1-square 2-rectangle 3-triangle1\n",
      "enter side4\n",
      "enter height4\n",
      "total surface area:  48.0\n"
     ]
    }
   ],
   "source": [
    "a=int(input(\"enter type of pyramid: 1-square 2-rectangle 3-triangle\"))\n",
    "if(a==1):\n",
    "    square()\n",
    "if(a==2):\n",
    "    rectangle()\n",
    "if(a==3):\n",
    "    triangle()"
   ]
  },
  {
   "cell_type": "code",
   "execution_count": 48,
   "metadata": {},
   "outputs": [],
   "source": [
    "def square():\n",
    "    side=int(input(\"enter side\"))\n",
    "    height=int(input(\"enter height\"))\n",
    "    print(\"total surface area: \",(side)**2+(4*(0.5*side*height)))"
   ]
  },
  {
   "cell_type": "code",
   "execution_count": 49,
   "metadata": {},
   "outputs": [],
   "source": [
    "def rectangle():\n",
    "    side=int(input(\"enter side\"))\n",
    "    height=int(input(\"enter height\"))\n",
    "    length=int(input(\"enter length\"))\n",
    "    breadth=int(input(\"enter breadth\"))\n",
    "    print(\"Total surface area:\",(length*breadth)+4*(0.5*height*side))"
   ]
  },
  {
   "cell_type": "code",
   "execution_count": 50,
   "metadata": {},
   "outputs": [],
   "source": [
    "def triangle():\n",
    "    side=int(input(\"enter side\"))\n",
    "    print(\"Total surface area: \",4*0.5*(side)**2)"
   ]
  },
  {
   "cell_type": "code",
   "execution_count": 52,
   "metadata": {},
   "outputs": [
    {
     "name": "stdout",
     "output_type": "stream",
     "text": [
      "enter lower boundary1\n",
      "enter upper boundary200\n",
      "6\n",
      "12\n",
      "18\n",
      "24\n",
      "30\n",
      "36\n",
      "42\n",
      "48\n",
      "54\n",
      "60\n",
      "66\n",
      "72\n",
      "78\n",
      "84\n",
      "90\n",
      "96\n",
      "102\n",
      "108\n",
      "114\n",
      "120\n",
      "126\n",
      "132\n",
      "138\n",
      "144\n",
      "150\n",
      "156\n",
      "162\n",
      "168\n",
      "174\n",
      "180\n",
      "186\n",
      "192\n",
      "198\n"
     ]
    }
   ],
   "source": [
    "a=int(input(\"enter lower boundary\"))\n",
    "b=int(input(\"enter upper boundary\"))\n",
    "for i in range(a,b):\n",
    "    if(i%6==0 and 100%i!=0):\n",
    "        print(i)"
   ]
  },
  {
   "cell_type": "code",
   "execution_count": 53,
   "metadata": {},
   "outputs": [],
   "source": [
    "def even(n):\n",
    "    if(n%2==0):\n",
    "        return True\n",
    "    return False"
   ]
  },
  {
   "cell_type": "code",
   "execution_count": 55,
   "metadata": {},
   "outputs": [
    {
     "name": "stdout",
     "output_type": "stream",
     "text": [
      "enter lower range1\n",
      "enter upper range5\n",
      "avg s 36.0\n"
     ]
    }
   ],
   "source": [
    "a=int(input(\"enter lower range\"))\n",
    "b=int(input(\"enter upper range\"))\n",
    "s=0\n",
    "c=0\n",
    "for i in range(a,b):\n",
    "    if even(i):\n",
    "        c=c+1\n",
    "        s=s+(i**3)\n",
    "print(\"avg is\",s/c)"
   ]
  },
  {
   "cell_type": "code",
   "execution_count": null,
   "metadata": {},
   "outputs": [],
   "source": []
  }
 ],
 "metadata": {
  "kernelspec": {
   "display_name": "Python 3",
   "language": "python",
   "name": "python3"
  },
  "language_info": {
   "codemirror_mode": {
    "name": "ipython",
    "version": 3
   },
   "file_extension": ".py",
   "mimetype": "text/x-python",
   "name": "python",
   "nbconvert_exporter": "python",
   "pygments_lexer": "ipython3",
   "version": "3.7.4"
  }
 },
 "nbformat": 4,
 "nbformat_minor": 2
}
