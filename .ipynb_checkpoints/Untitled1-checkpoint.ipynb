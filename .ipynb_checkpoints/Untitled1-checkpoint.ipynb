{
 "cells": [
  {
   "cell_type": "code",
   "execution_count": 7,
   "metadata": {},
   "outputs": [
    {
     "name": "stdout",
     "output_type": "stream",
     "text": [
      "enter a num 10\n",
      "enter a num 20\n",
      "even num are 6 odd num are 5\n"
     ]
    }
   ],
   "source": [
    "count=0\n",
    "count1=0\n",
    "a=int(input(\"enter a num \"))\n",
    "b=int(input(\"enter a num \"))\n",
    "for i in range(a,b+1):\n",
    "    if i%2==0:\n",
    "        count+=1\n",
    "    elif i%2!=0:\n",
    "        count1+=1\n",
    "print(\"even num are\",count,\"odd num are\",count1)"
   ]
  },
  {
   "cell_type": "code",
   "execution_count": 3,
   "metadata": {},
   "outputs": [
    {
     "name": "stdout",
     "output_type": "stream",
     "text": [
      "enter a num 1\n",
      "enter a num 10\n",
      "5.0\n"
     ]
    }
   ],
   "source": [
    "a=int(input(\"enter a num \"))\n",
    "b=int(input(\"enter a num \"))\n",
    "count=0\n",
    "j=0\n",
    "for i in range(a,b):\n",
    "    count=count+1\n",
    "    j=j+i\n",
    "    d=j/count\n",
    "print(d)"
   ]
  },
  {
   "cell_type": "code",
   "execution_count": 19,
   "metadata": {},
   "outputs": [
    {
     "name": "stdout",
     "output_type": "stream",
     "text": [
      "enter alphabet h\n",
      "consonent\n"
     ]
    }
   ],
   "source": [
    "a=input(\"enter alphabet \")\n",
    "b=\"aeiouAEIOU\"\n",
    "if a in b:\n",
    "    print(\"vowel\")\n",
    "else:\n",
    "    print(\"consonent\")\n",
    "    "
   ]
  },
  {
   "cell_type": "code",
   "execution_count": null,
   "metadata": {},
   "outputs": [],
   "source": []
  }
 ],
 "metadata": {
  "kernelspec": {
   "display_name": "Python 3",
   "language": "python",
   "name": "python3"
  }
 },
 "nbformat": 4,
 "nbformat_minor": 2
}
