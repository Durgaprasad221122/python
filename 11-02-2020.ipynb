{
 "cells": [
  {
   "cell_type": "code",
   "execution_count": 9,
   "metadata": {},
   "outputs": [],
   "source": [
    "def armstrong(n):\n",
    "    ns=str(n)\n",
    "    s=0\n",
    "    for i in ns:\n",
    "        s=s+(int(i)**len(ns))\n",
    "    if(s==n):\n",
    "        return True\n",
    "    return False"
   ]
  },
  {
   "cell_type": "code",
   "execution_count": 10,
   "metadata": {},
   "outputs": [
    {
     "data": {
      "text/plain": [
       "True"
      ]
     },
     "execution_count": 10,
     "metadata": {},
     "output_type": "execute_result"
    }
   ],
   "source": [
    "armstrong(153)"
   ]
  },
  {
   "cell_type": "code",
   "execution_count": 12,
   "metadata": {},
   "outputs": [],
   "source": [
    "def odd(n):\n",
    "    if(n%2==0):\n",
    "        return True\n",
    "    return False"
   ]
  },
  {
   "cell_type": "code",
   "execution_count": null,
   "metadata": {},
   "outputs": [
    {
     "name": "stdout",
     "output_type": "stream",
     "text": [
      "Enter number10\n",
      "1\n",
      "3\n",
      "5\n",
      "7\n",
      "9\n",
      "153\n",
      "371\n",
      "407\n",
      "92727\n",
      "1741725\n",
      "9800817\n",
      "9926315\n",
      "24678051\n",
      "88593477\n"
     ]
    }
   ],
   "source": [
    "def armstrong(n):\n",
    "    ns=str(n)\n",
    "    s=0\n",
    "    for i in ns:\n",
    "        s=s+(int(i)**len(ns))\n",
    "    if(s==n):\n",
    "        return True\n",
    "    return False\n",
    "def odd(n):\n",
    "    if(n%2!=0):\n",
    "        return True\n",
    "    return False\n",
    "n=int(input(\"Enter number\"))\n",
    "c=1\n",
    "while(c<=n):\n",
    "    for i in range(1,10**10):\n",
    "         if(armstrong(i)and odd(i)):\n",
    "            print(i)\n",
    "            c=c+1"
   ]
  },
  {
   "cell_type": "code",
   "execution_count": 13,
   "metadata": {},
   "outputs": [],
   "source": [
    "h=\"hello aditya college\""
   ]
  },
  {
   "cell_type": "code",
   "execution_count": null,
   "metadata": {},
   "outputs": [],
   "source": [
    "h1=h.split()\n",
    "print(h1)"
   ]
  },
  {
   "cell_type": "code",
   "execution_count": null,
   "metadata": {},
   "outputs": [],
   "source": [
    "### replace"
   ]
  },
  {
   "cell_type": "code",
   "execution_count": 32,
   "metadata": {},
   "outputs": [
    {
     "name": "stdout",
     "output_type": "stream",
     "text": [
      "aditya\n"
     ]
    }
   ],
   "source": [
    "c= \"a d i t y a\"\n",
    "c1=c.replace(\" \",\"\")\n",
    "print(c1)"
   ]
  },
  {
   "cell_type": "code",
   "execution_count": 31,
   "metadata": {},
   "outputs": [
    {
     "data": {
      "text/plain": [
       "False"
      ]
     },
     "execution_count": 31,
     "metadata": {},
     "output_type": "execute_result"
    }
   ],
   "source": [
    "c.isspace()"
   ]
  },
  {
   "cell_type": "code",
   "execution_count": 3,
   "metadata": {},
   "outputs": [
    {
     "data": {
      "text/plain": [
       "True"
      ]
     },
     "execution_count": 3,
     "metadata": {},
     "output_type": "execute_result"
    }
   ],
   "source": [
    "s=\"aditya456\"\n",
    "s.isalpha()\n",
    "s.isalnum()"
   ]
  },
  {
   "cell_type": "code",
   "execution_count": null,
   "metadata": {},
   "outputs": [],
   "source": [
    "s= \"aditya12jhv45vb65\""
   ]
  },
  {
   "cell_type": "code",
   "execution_count": 5,
   "metadata": {},
   "outputs": [
    {
     "name": "stdout",
     "output_type": "stream",
     "text": [
      "abc 112\n",
      "3 3 1\n"
     ]
    }
   ],
   "source": [
    "n=input()\n",
    "count=0\n",
    "s=0\n",
    "m=0\n",
    "for i in n:\n",
    "    if i.isdigit():\n",
    "        count+=1\n",
    "    elif i.isalpha():\n",
    "        s+=1\n",
    "    elif i.isspace():\n",
    "        m+=1\n",
    "print(count,s,m)"
   ]
  },
  {
   "cell_type": "code",
   "execution_count": 10,
   "metadata": {},
   "outputs": [
    {
     "name": "stdout",
     "output_type": "stream",
     "text": [
      "enter string hi\n",
      "enter new string a\n",
      "iai\n"
     ]
    }
   ],
   "source": [
    "n=input(\"enter string \")\n",
    "s=input(\"enter new string \")\n",
    "a=len(n)\n",
    "b=a//2\n",
    "print(n[:b]+s+n[b:])"
   ]
  },
  {
   "cell_type": "code",
   "execution_count": null,
   "metadata": {},
   "outputs": [],
   "source": [
    "n=input()\n"
   ]
  }
 ],
 "metadata": {
  "kernelspec": {
   "display_name": "Python 3",
   "language": "python",
   "name": "python3"
  },
  "language_info": {
   "codemirror_mode": {
    "name": "ipython",
    "version": 3
   },
   "file_extension": ".py",
   "mimetype": "text/x-python",
   "name": "python",
   "nbconvert_exporter": "python",
   "pygments_lexer": "ipython3",
   "version": "3.7.4"
  }
 },
 "nbformat": 4,
 "nbformat_minor": 2
}
